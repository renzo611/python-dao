{
 "cells": [
  {
   "cell_type": "code",
   "execution_count": 1,
   "metadata": {},
   "outputs": [
    {
     "name": "stdout",
     "output_type": "stream",
     "text": [
      "Resultados de mysql.connector:\n",
      "('Hombre topo',)\n",
      "('Renzo Fajardo',)\n"
     ]
    }
   ],
   "source": [
    "print(\"Resultados de mysql.connector:\")\n",
    "import mysql.connector\n",
    "miConexion = mysql.connector.connect( host='localhost', user= 'root', passwd='root', db='carwash' )\n",
    "cur = miConexion.cursor()\n",
    "cur.execute( \"SELECT nombre_emp FROM empleados\" )\n",
    "for nombre in cur.fetchall() :\n",
    "    print(nombre)\n",
    "miConexion.close()\n"
   ]
  },
  {
   "cell_type": "code",
   "execution_count": null,
   "metadata": {},
   "outputs": [],
   "source": []
  },
  {
   "cell_type": "code",
   "execution_count": null,
   "metadata": {},
   "outputs": [],
   "source": []
  }
 ],
 "metadata": {
  "kernelspec": {
   "display_name": "Python 3",
   "language": "python",
   "name": "python3"
  },
  "language_info": {
   "codemirror_mode": {
    "name": "ipython",
    "version": 3
   },
   "file_extension": ".py",
   "mimetype": "text/x-python",
   "name": "python",
   "nbconvert_exporter": "python",
   "pygments_lexer": "ipython3",
   "version": "3.8.10"
  }
 },
 "nbformat": 4,
 "nbformat_minor": 4
}
